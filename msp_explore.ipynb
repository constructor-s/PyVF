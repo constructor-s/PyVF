{
 "cells": [
  {
   "cell_type": "markdown",
   "metadata": {
    "pycharm": {
     "name": "#%% md\n"
    }
   },
   "source": [
    "# Exploring Multiple Stimulus Perimetry Theory"
   ]
  },
  {
   "cell_type": "code",
   "execution_count": 5,
   "metadata": {},
   "outputs": [
    {
     "data": {
      "text/plain": [
       "'E:\\\\Tools\\\\miniconda3\\\\envs\\\\pyvf\\\\python.exe'"
      ]
     },
     "execution_count": 5,
     "metadata": {},
     "output_type": "execute_result"
    }
   ],
   "source": [
    "import numpy as np\n",
    "import pandas as pd\n",
    "import matplotlib.pyplot as plt\n",
    "import sys\n",
    "sys.executable"
   ]
  },
  {
   "cell_type": "markdown",
   "metadata": {},
   "source": [
    "## Bayesian Strategy: Reduction in Entropy"
   ]
  },
  {
   "cell_type": "code",
   "execution_count": 38,
   "metadata": {},
   "outputs": [
    {
     "data": {
      "text/plain": [
       "(array(2.77823157), array(2.76872658), array(2.98895341), array(2.98895343))"
      ]
     },
     "execution_count": 38,
     "metadata": {},
     "output_type": "execute_result"
    },
    {
     "data": {
      "image/png": "[encoded data removed]",
      "text/plain": [
       "<Figure size 576x576 with 4 Axes>"
      ]
     },
     "metadata": {
      "needs_background": "light"
     },
     "output_type": "display_data"
    }
   ],
   "source": [
    "import pyvf.resources.turpin2003 as turpin2003\n",
    "import importlib.resources as pkg_resources\n",
    "from pyvf.stats import rv_histogram2\n",
    "from pyvf.stats.pos import pos_ramp\n",
    "\n",
    "with pkg_resources.open_text(turpin2003, \"abnormal_pdf.csv\") as f:\n",
    "    abnormal_bins, abnormal_height = np.loadtxt(f, dtype=np.float32, delimiter=\",\", skiprows=0).T\n",
    "    abnormal_bins = np.concatenate( (abnormal_bins - 0.5, [abnormal_bins[-1] + 0.5]) )\n",
    "with pkg_resources.open_text(turpin2003, \"normal_pdf.csv\") as f:\n",
    "    normal_bins, normal_height = np.loadtxt(f, dtype=np.float32, delimiter=\",\", skiprows=0).T\n",
    "    normal_bins = np.concatenate((normal_bins - 0.5, [normal_bins[-1] + 0.5]))\n",
    "    \n",
    "refine_n = 10\n",
    "hist_abnormal = rv_histogram2(histogram=(abnormal_height, abnormal_bins)).refined(refine_n)\n",
    "hist_normal   = rv_histogram2(histogram=(  normal_height,   normal_bins)).refined(refine_n)\n",
    "center_normal = hist_normal.mode()\n",
    "epsilon = hist_normal.height.min()\n",
    "\n",
    "def get_init_pdf(init_mean, coef_abnormal=0.2, coef_normal=0.8):\n",
    "    return (coef_abnormal * hist_abnormal +\n",
    "            coef_normal * hist_normal.roll(shift=int(round((init_mean - center_normal) * refine_n)), fill_value=epsilon))\n",
    "    \n",
    "fig, ax = plt.subplots(2, 2, sharex=\"row\", sharey=False, figsize=[8, 8])\n",
    "ax[0, 0].bar(abnormal_bins[1:], abnormal_height)\n",
    "ax[0, 1].bar(normal_bins[1:], normal_height)\n",
    "init_pdf = get_init_pdf(init_mean=25)\n",
    "ax[1, 0].bar(init_pdf.bins[1:], init_pdf.height)\n",
    "ax[1, 1].plot(init_pdf.bins, pos_ramp(init_pdf.bins, center=25, yl=0.95, yr=0.05, width=4))\n",
    "ax[1, 1].set_ylim([0, 1])\n",
    "\n",
    "hist_abnormal.entropy(), hist_normal.entropy(), init_pdf.entropy()"
   ]
  },
  {
   "cell_type": "code",
   "execution_count": 42,
   "metadata": {},
   "outputs": [],
   "source": [
    "from pyvf.strategy import *\n",
    "from pyvf.strategy.Model import *\n",
    "from pyvf.strategy.Responder import *\n",
    "\n",
    "starting_threshold = np.array([30.0, 30.0])\n",
    "true_threshold = np.array([0.0, 0.0])\n",
    "model = ConstantModel(eval_pattern=PATTERN_DOUBLE,\n",
    "                      mean=starting_threshold,\n",
    "                      std=4)  # std no effect in this case\n",
    "\n",
    "def sim(strategy, responder):\n",
    "    counter = 0\n",
    "    data = []\n",
    "    while True:\n",
    "        stimulus, threshold = strategy.get_stimulus_threshold(data)\n",
    "        if stimulus is None:\n",
    "            break  # Test is finished\n",
    "        else:  # isinstance(stimulus, Stimulus):  # Single stimulus perimetry\n",
    "            # _logger.debug(\"%3d: %s\\t%s\", counter, threshold, stimulus)\n",
    "            if isinstance(stimulus, Stimulus):\n",
    "                stimulus = stimulus.copy(**{TSDISP: counter})\n",
    "                stimulus = responder.get_response(stimulus)\n",
    "                data.append(stimulus)\n",
    "            elif isinstance(stimulus[0], Stimulus):\n",
    "                stimulus = [s.copy(**{TSDISP: counter}) for s in stimulus]\n",
    "                stimulus = responder.get_response(stimulus)\n",
    "                data.extend(stimulus)\n",
    "            else:\n",
    "                raise ValueError(f\"Invalid stimulus object or list of stimuli: {stimulus}\")\n",
    "        counter += 1\n",
    "        \n",
    "    return data"
   ]
  },
  {
   "cell_type": "code",
   "execution_count": 50,
   "metadata": {},
   "outputs": [
    {
     "data": {
      "text/plain": [
       "[<matplotlib.lines.Line2D at 0x1b1d0311a00>]"
      ]
     },
     "execution_count": 50,
     "metadata": {},
     "output_type": "execute_result"
    },
    {
     "data": {
      "image/png": "[encoded data removed]",
      "text/plain": [
       "<Figure size 576x432 with 1 Axes>"
      ]
     },
     "metadata": {
      "needs_background": "light"
     },
     "output_type": "display_data"
    }
   ],
   "source": [
    "responder = RampResponder(true_threshold=true_threshold, fp=0, fn=0, width=0.001)\n",
    "strategy = ZestStrategy(\n",
    "    pattern=PATTERN_DOUBLE,\n",
    "    blindspot=[],\n",
    "    model=model,\n",
    "    term_std=1.5,\n",
    "    rng=0,\n",
    "    growth_pattern=EmptyGrowthPattern()\n",
    ")\n",
    "data = sim(strategy, responder)\n",
    "data = Stimulus.to_numpy(data)\n",
    "data_loc0 = data[data['loc'] == 0]\n",
    "fig, ax = plt.subplots(1, 1, figsize=[8, 6])\n",
    "ax.plot(np.arange(len(data_loc0)), data_loc0['threshold'])"
   ]
  },
  {
   "cell_type": "code",
   "execution_count": null,
   "metadata": {},
   "outputs": [],
   "source": []
  },
  {
   "cell_type": "markdown",
   "metadata": {},
   "source": [
    "### Single stimulus perimetry\n",
    "Reduction in entropy for a perfect responder"
   ]
  },
  {
   "cell_type": "code",
   "execution_count": null,
   "metadata": {},
   "outputs": [],
   "source": []
  },
  {
   "cell_type": "code",
   "execution_count": null,
   "metadata": {},
   "outputs": [],
   "source": []
  },
  {
   "cell_type": "code",
   "execution_count": null,
   "metadata": {},
   "outputs": [],
   "source": []
  },
  {
   "cell_type": "code",
   "execution_count": null,
   "metadata": {},
   "outputs": [],
   "source": []
  },
  {
   "cell_type": "code",
   "execution_count": null,
   "metadata": {},
   "outputs": [],
   "source": []
  },
  {
   "cell_type": "code",
   "execution_count": null,
   "metadata": {},
   "outputs": [],
   "source": []
  }
 ],
 "metadata": {
  "kernelspec": {
   "display_name": "Python 3",
   "language": "python",
   "name": "python3"
  },
  "language_info": {
   "codemirror_mode": {
    "name": "ipython",
    "version": 3
   },
   "file_extension": ".py",
   "mimetype": "text/x-python",
   "name": "python",
   "nbconvert_exporter": "python",
   "pygments_lexer": "ipython3",
   "version": "3.8.3"
  }
 },
 "nbformat": 4,
 "nbformat_minor": 1
}
